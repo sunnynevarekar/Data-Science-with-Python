{
 "cells": [
  {
   "cell_type": "markdown",
   "metadata": {},
   "source": [
    "---\n",
    "\n",
    "_You are currently looking at **version 1.1** of this notebook. To download notebooks and datafiles, as well as get help on Jupyter notebooks in the Coursera platform, visit the [Jupyter Notebook FAQ](https://www.coursera.org/learn/python-data-analysis/resources/0dhYG) course resource._\n",
    "\n",
    "---"
   ]
  },
  {
   "cell_type": "code",
   "execution_count": 2,
   "metadata": {
    "collapsed": true
   },
   "outputs": [],
   "source": [
    "import pandas as pd\n",
    "import numpy as np\n",
    "from scipy.stats import ttest_ind"
   ]
  },
  {
   "cell_type": "markdown",
   "metadata": {},
   "source": [
    "# Assignment 4 - Hypothesis Testing\n",
    "This assignment requires more individual learning than previous assignments - you are encouraged to check out the [pandas documentation](http://pandas.pydata.org/pandas-docs/stable/) to find functions or methods you might not have used yet, or ask questions on [Stack Overflow](http://stackoverflow.com/) and tag them as pandas and python related. And of course, the discussion forums are open for interaction with your peers and the course staff.\n",
    "\n",
    "Definitions:\n",
    "* A _quarter_ is a specific three month period, Q1 is January through March, Q2 is April through June, Q3 is July through September, Q4 is October through December.\n",
    "* A _recession_ is defined as starting with two consecutive quarters of GDP decline, and ending with two consecutive quarters of GDP growth.\n",
    "* A _recession bottom_ is the quarter within a recession which had the lowest GDP.\n",
    "* A _university town_ is a city which has a high percentage of university students compared to the total population of the city.\n",
    "\n",
    "**Hypothesis**: University towns have their mean housing prices less effected by recessions. Run a t-test to compare the ratio of the mean price of houses in university towns the quarter before the recession starts compared to the recession bottom. (`price_ratio=quarter_before_recession/recession_bottom`)\n",
    "\n",
    "The following data files are available for this assignment:\n",
    "* From the [Zillow research data site](http://www.zillow.com/research/data/) there is housing data for the United States. In particular the datafile for [all homes at a city level](http://files.zillowstatic.com/research/public/City/City_Zhvi_AllHomes.csv), ```City_Zhvi_AllHomes.csv```, has median home sale prices at a fine grained level.\n",
    "* From the Wikipedia page on college towns is a list of [university towns in the United States](https://en.wikipedia.org/wiki/List_of_college_towns#College_towns_in_the_United_States) which has been copy and pasted into the file ```university_towns.txt```.\n",
    "* From Bureau of Economic Analysis, US Department of Commerce, the [GDP over time](http://www.bea.gov/national/index.htm#gdp) of the United States in current dollars (use the chained value in 2009 dollars), in quarterly intervals, in the file ```gdplev.xls```. For this assignment, only look at GDP data from the first quarter of 2000 onward.\n",
    "\n",
    "Each function in this assignment below is worth 10%, with the exception of ```run_ttest()```, which is worth 50%."
   ]
  },
  {
   "cell_type": "code",
   "execution_count": 50,
   "metadata": {
    "collapsed": true
   },
   "outputs": [],
   "source": [
    "# Use this dictionary to map state names to two letter acronyms\n",
    "states = {'OH': 'Ohio', 'KY': 'Kentucky', 'AS': 'American Samoa', 'NV': 'Nevada', 'WY': 'Wyoming', 'NA': 'National', 'AL': 'Alabama', 'MD': 'Maryland', 'AK': 'Alaska', 'UT': 'Utah', 'OR': 'Oregon', 'MT': 'Montana', 'IL': 'Illinois', 'TN': 'Tennessee', 'DC': 'District of Columbia', 'VT': 'Vermont', 'ID': 'Idaho', 'AR': 'Arkansas', 'ME': 'Maine', 'WA': 'Washington', 'HI': 'Hawaii', 'WI': 'Wisconsin', 'MI': 'Michigan', 'IN': 'Indiana', 'NJ': 'New Jersey', 'AZ': 'Arizona', 'GU': 'Guam', 'MS': 'Mississippi', 'PR': 'Puerto Rico', 'NC': 'North Carolina', 'TX': 'Texas', 'SD': 'South Dakota', 'MP': 'Northern Mariana Islands', 'IA': 'Iowa', 'MO': 'Missouri', 'CT': 'Connecticut', 'WV': 'West Virginia', 'SC': 'South Carolina', 'LA': 'Louisiana', 'KS': 'Kansas', 'NY': 'New York', 'NE': 'Nebraska', 'OK': 'Oklahoma', 'FL': 'Florida', 'CA': 'California', 'CO': 'Colorado', 'PA': 'Pennsylvania', 'DE': 'Delaware', 'NM': 'New Mexico', 'RI': 'Rhode Island', 'MN': 'Minnesota', 'VI': 'Virgin Islands', 'NH': 'New Hampshire', 'MA': 'Massachusetts', 'GA': 'Georgia', 'ND': 'North Dakota', 'VA': 'Virginia'}"
   ]
  },
  {
   "cell_type": "code",
   "execution_count": 51,
   "metadata": {
    "collapsed": true
   },
   "outputs": [],
   "source": [
    "def get_list_of_university_towns():\n",
    "    '''Returns a DataFrame of towns and the states they are in from the \n",
    "    university_towns.txt list. The format of the DataFrame should be:\n",
    "    DataFrame( [ [\"Michigan\", \"Ann Arbor\"], [\"Michigan\", \"Yipsilanti\"] ], \n",
    "    columns=[\"State\", \"RegionName\"]  )\n",
    "    \n",
    "    The following cleaning needs to be done:\n",
    "\n",
    "    1. For \"State\", removing characters from \"[\" to the end.\n",
    "    2. For \"RegionName\", when applicable, removing every character from \" (\" to the end.\n",
    "    3. Depending on how you read the data, you may need to remove newline character '\\n'. '''\n",
    "    \n",
    "    university_towns=[]\n",
    "    state=None\n",
    "\n",
    "    #read file university_towns.txt line by line\n",
    "    #each entry in the file either represents a state or a region\n",
    "    #the entry of a state is followed by string [edit], use this info to parse states\n",
    "    #the entries below a state entry, are the regions from that state\n",
    "    \n",
    "    with open('university_towns.txt', 'r') as txtfile:\n",
    "        for line in txtfile:\n",
    "            line = line.strip()\n",
    "            line = line.strip('\\n')\n",
    "            if '[edit]' in line:\n",
    "                line = line.split('[')[0]\n",
    "                state = line\n",
    "            else:\n",
    "                if '(' in line:\n",
    "                    region = line.split('(')[0].strip()\n",
    "                else:\n",
    "                    region = line\n",
    "                \n",
    "                university_towns.append([state,region])   \n",
    "    \n",
    "    return pd.DataFrame(university_towns, columns=[\"State\", \"RegionName\"])"
   ]
  },
  {
   "cell_type": "code",
   "execution_count": 52,
   "metadata": {},
   "outputs": [
    {
     "name": "stdout",
     "output_type": "stream",
     "text": [
      "(517, 2)\n",
      "\n",
      "       State RegionName\n",
      "1    Alabama   Florence\n",
      "516  Wyoming    Laramie\n"
     ]
    }
   ],
   "source": [
    "towns = get_list_of_university_towns()\n",
    "print(towns.shape)\n",
    "print()\n",
    "print(towns.iloc[[1, -1]])"
   ]
  },
  {
   "cell_type": "code",
   "execution_count": 53,
   "metadata": {
    "collapsed": true
   },
   "outputs": [],
   "source": [
    "def get_GDP():\n",
    "    GDP = pd.read_excel('gdplev.xls', skiprows=7, usecols=[4,6], names=['quarter', 'gdp'])\n",
    "    index_1999 = GDP[GDP['quarter']=='1999q4'].index[0]\n",
    "    GDP = GDP.iloc[index_1999:]\n",
    "    GDP = GDP.reset_index(drop=True)\n",
    "    \n",
    "    for i in range(len(GDP)):\n",
    "        if(i==0):\n",
    "            continue\n",
    "        \n",
    "        GDP.loc[i, 'growth'] = GDP.loc[i, 'gdp'] - GDP.loc[i-1, 'gdp']\n",
    "        \n",
    "    GDP.loc[0, 'growth']=100\n",
    "    return GDP"
   ]
  },
  {
   "cell_type": "code",
   "execution_count": 54,
   "metadata": {
    "collapsed": true
   },
   "outputs": [],
   "source": [
    "def get_recession_start():\n",
    "    '''Returns the year and quarter of the recession start time as a \n",
    "    string value in a format such as 2005q3'''\n",
    "    \n",
    "    GDP = get_GDP()\n",
    "    recession = []\n",
    "    for i in range(1, len(GDP)-1):\n",
    "        if GDP.loc[i-1, 'growth'] >= 0 and GDP.loc[i, 'growth'] < 0 and  GDP.loc[i+1, 'growth'] <0 :\n",
    "            recession.append(GDP.iloc[i])\n",
    "        \n",
    "    return recession[0]['quarter']"
   ]
  },
  {
   "cell_type": "code",
   "execution_count": 55,
   "metadata": {},
   "outputs": [
    {
     "data": {
      "text/plain": [
       "'2008q3'"
      ]
     },
     "execution_count": 55,
     "metadata": {},
     "output_type": "execute_result"
    }
   ],
   "source": [
    "get_recession_start()"
   ]
  },
  {
   "cell_type": "code",
   "execution_count": 56,
   "metadata": {
    "collapsed": true
   },
   "outputs": [],
   "source": [
    "def get_recession_end():\n",
    "    '''Returns the year and quarter of the recession end time as a \n",
    "    string value in a format such as 2005q3'''\n",
    "    \n",
    "    GDP = get_GDP()\n",
    "    recession_start = get_recession_start()\n",
    "    \n",
    "    start_index = GDP[GDP['quarter']==recession_start].index[0]\n",
    "    end_index = None\n",
    "    \n",
    "    for i in range(start_index+1, len(GDP)-1):\n",
    "        if GDP.loc[i, 'growth'] >= 0 and GDP.loc[i+1, 'growth'] >= 0:\n",
    "            end_index=i+1\n",
    "            break\n",
    "            \n",
    "    \n",
    "    return GDP.loc[end_index, 'quarter']"
   ]
  },
  {
   "cell_type": "code",
   "execution_count": 57,
   "metadata": {},
   "outputs": [
    {
     "data": {
      "text/plain": [
       "'2009q4'"
      ]
     },
     "execution_count": 57,
     "metadata": {},
     "output_type": "execute_result"
    }
   ],
   "source": [
    "get_recession_end()"
   ]
  },
  {
   "cell_type": "code",
   "execution_count": 58,
   "metadata": {
    "collapsed": true
   },
   "outputs": [],
   "source": [
    "def get_recession_bottom():\n",
    "    '''Returns the year and quarter of the recession bottom time as a \n",
    "    string value in a format such as 2005q3'''\n",
    "    \n",
    "    GDP = get_GDP()\n",
    "    start_index = GDP[GDP['quarter'] == get_recession_start()].index[0]\n",
    "    end_index = GDP[GDP['quarter'] == get_recession_end()].index[0]\n",
    "    \n",
    "    return GDP.iloc[start_index:end_index+1].sort_values(by=['gdp']).iloc[0, 0]"
   ]
  },
  {
   "cell_type": "code",
   "execution_count": 59,
   "metadata": {},
   "outputs": [
    {
     "data": {
      "text/plain": [
       "'2009q2'"
      ]
     },
     "execution_count": 59,
     "metadata": {},
     "output_type": "execute_result"
    }
   ],
   "source": [
    "get_recession_bottom()"
   ]
  },
  {
   "cell_type": "code",
   "execution_count": 60,
   "metadata": {
    "collapsed": true
   },
   "outputs": [],
   "source": [
    "def map_state_names(row):\n",
    "    \n",
    "    if row['State'] in states:\n",
    "        state = row['State']\n",
    "        row['State'] = states[state]\n",
    "    return row   "
   ]
  },
  {
   "cell_type": "code",
   "execution_count": 61,
   "metadata": {
    "collapsed": true
   },
   "outputs": [],
   "source": [
    "def get_all_homes():\n",
    "    \n",
    "    columns = ['RegionName', 'State', '2000-01', '2000-02','2000-03','2000-04','2000-05',\n",
    "               '2000-06','2000-07','2000-08','2000-09','2000-10','2000-11','2000-12',\n",
    "               '2001-01','2001-02','2001-03','2001-04','2001-05','2001-06','2001-07',\n",
    "               '2001-08','2001-09','2001-10','2001-11','2001-12','2002-01','2002-02',\n",
    "               '2002-03','2002-04','2002-05','2002-06','2002-07','2002-08','2002-09',\n",
    "               '2002-10','2002-11','2002-12','2003-01','2003-02','2003-03','2003-04',\n",
    "               '2003-05','2003-06','2003-07','2003-08','2003-09','2003-10','2003-11',\n",
    "               '2003-12','2004-01','2004-02','2004-03','2004-04','2004-05','2004-06',\n",
    "               '2004-07','2004-08','2004-09','2004-10','2004-11','2004-12','2005-01',\n",
    "               '2005-02','2005-03','2005-04','2005-05','2005-06','2005-07','2005-08',\n",
    "               '2005-09','2005-10','2005-11','2005-12','2006-01','2006-02','2006-03',\n",
    "               '2006-04','2006-05','2006-06','2006-07','2006-08','2006-09','2006-10',\n",
    "               '2006-11','2006-12','2007-01','2007-02','2007-03','2007-04','2007-05',\n",
    "               '2007-06','2007-07','2007-08','2007-09','2007-10','2007-11','2007-12',\n",
    "               '2008-01','2008-02','2008-03','2008-04','2008-05','2008-06','2008-07',\n",
    "               '2008-08','2008-09','2008-10','2008-11','2008-12','2009-01','2009-02',\n",
    "               '2009-03','2009-04','2009-05','2009-06','2009-07','2009-08','2009-09',\n",
    "               '2009-10','2009-11','2009-12','2010-01','2010-02','2010-03','2010-04',\n",
    "               '2010-05','2010-06','2010-07','2010-08','2010-09','2010-10','2010-11',\n",
    "               '2010-12','2011-01','2011-02','2011-03','2011-04','2011-05','2011-06',\n",
    "               '2011-07','2011-08','2011-09','2011-10','2011-11','2011-12','2012-01',\n",
    "               '2012-02','2012-03','2012-04','2012-05','2012-06','2012-07','2012-08',\n",
    "               '2012-09','2012-10','2012-11','2012-12','2013-01','2013-02','2013-03',\n",
    "               '2013-04','2013-05','2013-06','2013-07','2013-08','2013-09','2013-10',\n",
    "               '2013-11','2013-12','2014-01','2014-02','2014-03','2014-04','2014-05',\n",
    "               '2014-06','2014-07','2014-08','2014-09','2014-10','2014-11','2014-12',\n",
    "               '2015-01','2015-02','2015-03','2015-04','2015-05','2015-06','2015-07',\n",
    "               '2015-08','2015-09','2015-10','2015-11','2015-12','2016-01','2016-02',\n",
    "               '2016-03','2016-04','2016-05','2016-06','2016-07','2016-08']\n",
    "    \n",
    "    homes = pd.read_csv('City_Zhvi_AllHomes.csv', usecols=columns)\n",
    "    \n",
    "    return homes           \n",
    "               "
   ]
  },
  {
   "cell_type": "code",
   "execution_count": 62,
   "metadata": {
    "collapsed": true
   },
   "outputs": [],
   "source": [
    "def convert_to_quarters(row):\n",
    "    quarters = ['2000q1', '2000q2', '2000q3', '2000q4',\n",
    "                '2001q1', '2001q2', '2001q3', '2001q4',\n",
    "                '2002q1', '2002q2', '2002q3', '2002q4',\n",
    "                '2003q1', '2003q2', '2003q3', '2003q4',\n",
    "                '2004q1', '2004q2', '2004q3', '2004q4',\n",
    "                '2005q1', '2005q2', '2005q3', '2005q4',\n",
    "                '2006q1', '2006q2', '2006q3', '2006q4',\n",
    "                '2007q1', '2007q2', '2007q3', '2007q4',\n",
    "                '2008q1', '2008q2', '2008q3', '2008q4',\n",
    "                '2009q1', '2009q2', '2009q3', '2009q4',   \n",
    "                '2010q1', '2010q2', '2010q3', '2010q4',\n",
    "                '2011q1', '2011q2', '2011q3', '2011q4',\n",
    "                '2012q1', '2012q2', '2012q3', '2012q4',\n",
    "                '2013q1', '2013q2', '2013q3', '2013q4',\n",
    "                '2014q1', '2014q2', '2014q3', '2014q4',\n",
    "                '2015q1', '2015q2', '2015q3', '2015q4',\n",
    "                '2016q1', '2016q2', '2016q3']\n",
    "    result={}\n",
    "    col = 0\n",
    "    for i in range(len(quarters)):\n",
    "        result[quarters[i]] = row.iloc[col:col+4].mean()\n",
    "        col+=3\n",
    "    \n",
    "    return pd.Series(result)\n",
    "        \n",
    "    "
   ]
  },
  {
   "cell_type": "code",
   "execution_count": 63,
   "metadata": {
    "collapsed": true
   },
   "outputs": [],
   "source": [
    "def convert_housing_data_to_quarters():\n",
    "    '''Converts the housing data to quarters and returns it as mean \n",
    "    values in a dataframe. This dataframe should be a dataframe with\n",
    "    columns for 2000q1 through 2016q3, and should have a multi-index\n",
    "    in the shape of [\"State\",\"RegionName\"].\n",
    "    \n",
    "    Note: Quarters are defined in the assignment description, they are\n",
    "    not arbitrary three month periods.\n",
    "    \n",
    "    The resulting dataframe should have 67 columns, and 10,730 rows.\n",
    "    '''\n",
    "    homes = get_all_homes()\n",
    "    homes = homes.apply(map_state_names, axis=1)\n",
    "    homes.set_index(['State', 'RegionName'], inplace=True)\n",
    "    homes.columns = pd.to_datetime(homes.columns)\n",
    "    homes = homes.resample('Q', axis=1).mean()\n",
    "    homes = homes.rename(columns=lambda x: str(x.to_period('Q')).lower())\n",
    "    return homes"
   ]
  },
  {
   "cell_type": "code",
   "execution_count": 64,
   "metadata": {
    "collapsed": true
   },
   "outputs": [],
   "source": [
    "def run_ttest():\n",
    "    '''First creates new data showing the decline or growth of housing prices\n",
    "    between the recession start and the recession bottom. Then runs a ttest\n",
    "    comparing the university town values to the non-university towns values, \n",
    "    return whether the alternative hypothesis (that the two groups are the same)\n",
    "    is true or not as well as the p-value of the confidence. \n",
    "    \n",
    "    Return the tuple (different, p, better) where different=True if the t-test is\n",
    "    True at a p<0.01 (we reject the null hypothesis), or different=False if \n",
    "    otherwise (we cannot reject the null hypothesis). The variable p should\n",
    "    be equal to the exact p value returned from scipy.stats.ttest_ind(). The\n",
    "    value for better should be either \"university town\" or \"non-university town\"\n",
    "    depending on which has a lower mean price ratio (which is equivilent to a\n",
    "    reduced market loss).'''\n",
    "    \n",
    "    university_towns = get_list_of_university_towns()\n",
    "    recession_start = get_recession_start()\n",
    "    recession_bottom  = get_recession_bottom()\n",
    "    housing = convert_housing_data_to_quarters()\n",
    "    q_before_recession_start = housing.columns[housing.columns.get_loc(recession_start)-1]\n",
    "    housing['priceratio'] = housing[q_before_recession_start].div(housing[recession_bottom])\n",
    "    df = pd.merge(housing.reset_index(), university_towns, on=university_towns.columns.tolist(), how='outer', indicator='_flag')\n",
    "    housing_university = df[df['_flag']=='both']\n",
    "    housing_non_university = df[df['_flag']=='left_only']\n",
    "    result = ttest_ind(housing_university['priceratio'], housing_non_university['priceratio'], nan_policy='omit')\n",
    "    p = result.pvalue\n",
    "    if p < 0.01:\n",
    "        different=True\n",
    "    else:\n",
    "        different=False\n",
    "    \n",
    "    if housing_university['priceratio'].mean() < housing_non_university['priceratio'].mean():\n",
    "        better = 'university town'\n",
    "    else:\n",
    "        better = 'non-university town'\n",
    "        \n",
    "    return (different, p, better)"
   ]
  },
  {
   "cell_type": "code",
   "execution_count": 37,
   "metadata": {},
   "outputs": [
    {
     "data": {
      "text/plain": [
       "(True, 0.0030592742966576714, 'university town')"
      ]
     },
     "execution_count": 37,
     "metadata": {},
     "output_type": "execute_result"
    }
   ],
   "source": [
    "run_ttest()"
   ]
  },
  {
   "cell_type": "code",
   "execution_count": 48,
   "metadata": {
    "collapsed": true
   },
   "outputs": [],
   "source": [
    "u_towns = get_list_of_university_towns()"
   ]
  },
  {
   "cell_type": "code",
   "execution_count": 49,
   "metadata": {},
   "outputs": [
    {
     "data": {
      "text/html": [
       "<div>\n",
       "<table border=\"1\" class=\"dataframe\">\n",
       "  <thead>\n",
       "    <tr style=\"text-align: right;\">\n",
       "      <th></th>\n",
       "      <th>State</th>\n",
       "      <th>RegionName</th>\n",
       "    </tr>\n",
       "  </thead>\n",
       "  <tbody>\n",
       "    <tr>\n",
       "      <th>175</th>\n",
       "      <td>Massachusetts</td>\n",
       "      <td>Boston</td>\n",
       "    </tr>\n",
       "    <tr>\n",
       "      <th>176</th>\n",
       "      <td>Massachusetts</td>\n",
       "      <td>Bridgewater</td>\n",
       "    </tr>\n",
       "    <tr>\n",
       "      <th>177</th>\n",
       "      <td>Massachusetts</td>\n",
       "      <td>Cambridge</td>\n",
       "    </tr>\n",
       "    <tr>\n",
       "      <th>178</th>\n",
       "      <td>Massachusetts</td>\n",
       "      <td>Chestnut Hill</td>\n",
       "    </tr>\n",
       "    <tr>\n",
       "      <th>179</th>\n",
       "      <td>Massachusetts</td>\n",
       "      <td>The Colleges of Worcester Consortium:</td>\n",
       "    </tr>\n",
       "    <tr>\n",
       "      <th>180</th>\n",
       "      <td>Massachusetts</td>\n",
       "      <td>Dudley</td>\n",
       "    </tr>\n",
       "    <tr>\n",
       "      <th>181</th>\n",
       "      <td>Massachusetts</td>\n",
       "      <td>North Grafton</td>\n",
       "    </tr>\n",
       "    <tr>\n",
       "      <th>182</th>\n",
       "      <td>Massachusetts</td>\n",
       "      <td>Paxton</td>\n",
       "    </tr>\n",
       "    <tr>\n",
       "      <th>183</th>\n",
       "      <td>Massachusetts</td>\n",
       "      <td>Worcester</td>\n",
       "    </tr>\n",
       "    <tr>\n",
       "      <th>184</th>\n",
       "      <td>Massachusetts</td>\n",
       "      <td>The Five College Region of Western Massachusetts:</td>\n",
       "    </tr>\n",
       "    <tr>\n",
       "      <th>185</th>\n",
       "      <td>Massachusetts</td>\n",
       "      <td>Amherst</td>\n",
       "    </tr>\n",
       "    <tr>\n",
       "      <th>186</th>\n",
       "      <td>Massachusetts</td>\n",
       "      <td>Northampton</td>\n",
       "    </tr>\n",
       "    <tr>\n",
       "      <th>187</th>\n",
       "      <td>Massachusetts</td>\n",
       "      <td>South Hadley</td>\n",
       "    </tr>\n",
       "    <tr>\n",
       "      <th>188</th>\n",
       "      <td>Massachusetts</td>\n",
       "      <td>Fitchburg</td>\n",
       "    </tr>\n",
       "    <tr>\n",
       "      <th>189</th>\n",
       "      <td>Massachusetts</td>\n",
       "      <td>North Adams</td>\n",
       "    </tr>\n",
       "    <tr>\n",
       "      <th>190</th>\n",
       "      <td>Massachusetts</td>\n",
       "      <td>Springfield</td>\n",
       "    </tr>\n",
       "    <tr>\n",
       "      <th>191</th>\n",
       "      <td>Massachusetts</td>\n",
       "      <td>Waltham</td>\n",
       "    </tr>\n",
       "    <tr>\n",
       "      <th>192</th>\n",
       "      <td>Massachusetts</td>\n",
       "      <td>Williamstown</td>\n",
       "    </tr>\n",
       "    <tr>\n",
       "      <th>193</th>\n",
       "      <td>Massachusetts</td>\n",
       "      <td>Framingham</td>\n",
       "    </tr>\n",
       "  </tbody>\n",
       "</table>\n",
       "</div>"
      ],
      "text/plain": [
       "             State                                         RegionName\n",
       "175  Massachusetts                                             Boston\n",
       "176  Massachusetts                                        Bridgewater\n",
       "177  Massachusetts                                          Cambridge\n",
       "178  Massachusetts                                      Chestnut Hill\n",
       "179  Massachusetts              The Colleges of Worcester Consortium:\n",
       "180  Massachusetts                                             Dudley\n",
       "181  Massachusetts                                      North Grafton\n",
       "182  Massachusetts                                             Paxton\n",
       "183  Massachusetts                                          Worcester\n",
       "184  Massachusetts  The Five College Region of Western Massachusetts:\n",
       "185  Massachusetts                                            Amherst\n",
       "186  Massachusetts                                        Northampton\n",
       "187  Massachusetts                                       South Hadley\n",
       "188  Massachusetts                                          Fitchburg\n",
       "189  Massachusetts                                        North Adams\n",
       "190  Massachusetts                                        Springfield\n",
       "191  Massachusetts                                            Waltham\n",
       "192  Massachusetts                                       Williamstown\n",
       "193  Massachusetts                                         Framingham"
      ]
     },
     "execution_count": 49,
     "metadata": {},
     "output_type": "execute_result"
    }
   ],
   "source": [
    "u_towns[u_towns['State']=='Massachusetts']"
   ]
  },
  {
   "cell_type": "code",
   "execution_count": 65,
   "metadata": {},
   "outputs": [
    {
     "data": {
      "text/plain": [
       "(True, 0.0027240637047531249, 'university town')"
      ]
     },
     "execution_count": 65,
     "metadata": {},
     "output_type": "execute_result"
    }
   ],
   "source": [
    "run_ttest()"
   ]
  },
  {
   "cell_type": "code",
   "execution_count": null,
   "metadata": {
    "collapsed": true
   },
   "outputs": [],
   "source": []
  }
 ],
 "metadata": {
  "coursera": {
   "course_slug": "python-data-analysis",
   "graded_item_id": "Il9Fx",
   "launcher_item_id": "TeDW0",
   "part_id": "WGlun"
  },
  "kernelspec": {
   "display_name": "Python 3",
   "language": "python",
   "name": "python3"
  }
 },
 "nbformat": 4,
 "nbformat_minor": 1
}
